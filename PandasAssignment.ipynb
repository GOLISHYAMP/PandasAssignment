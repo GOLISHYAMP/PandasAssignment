{
  "nbformat": 4,
  "nbformat_minor": 0,
  "metadata": {
    "colab": {
      "provenance": [],
      "authorship_tag": "ABX9TyOsgRCmBmO+ua8UPLZFlcYj",
      "include_colab_link": true
    },
    "kernelspec": {
      "name": "python3",
      "display_name": "Python 3"
    },
    "language_info": {
      "name": "python"
    }
  },
  "cells": [
    {
      "cell_type": "markdown",
      "metadata": {
        "id": "view-in-github",
        "colab_type": "text"
      },
      "source": [
        "<a href=\"https://colab.research.google.com/github/GOLISHYAMP/PandasAssignment/blob/main/PandasAssignment.ipynb\" target=\"_parent\"><img src=\"https://colab.research.google.com/assets/colab-badge.svg\" alt=\"Open In Colab\"/></a>"
      ]
    },
    {
      "cell_type": "markdown",
      "source": [
        "Assignment 1: Advanced Data Filtering and Grouping\\\n",
        "Task:\\\n",
        "You are given a dataset sales_data.csv containing sales records with the following columns:\\\n",
        "•\tOrderID: Unique identifier for each order.\\\n",
        "•\tProduct: Name of the product sold.\\\n",
        "•\tQuantity: Number of units sold.\\\n",
        "•\tPrice: Price per unit.\\\n",
        "•\tOrderDate: Date of the order.\\\n",
        "Perform the following tasks:\n",
        "1.\tFilter the data to include only orders where the total sale amount (Quantity * Price) is above $500.\n",
        "2.\tGroup the filtered data by Product and calculate the total sales amount for each product.\n",
        "3.\tFind the top 3 products with the highest total sales amount.\n"
      ],
      "metadata": {
        "id": "TV_GwTLuiGxV"
      }
    },
    {
      "cell_type": "code",
      "execution_count": null,
      "metadata": {
        "id": "1u1gqn4_gFV6"
      },
      "outputs": [],
      "source": []
    },
    {
      "cell_type": "markdown",
      "source": [
        "Assignment 2: Handling Missing Data in a Complex Dataset\\\n",
        "Task:\\\n",
        "You are given a dataset employee_data.csv containing employee records with the following columns:\\\n",
        "•\tEmployeeID: Unique identifier for each employee.\\\n",
        "•\tName: Employee's name.\\\n",
        "•\tAge: Employee's age.\\\n",
        "•\tDepartment: Department the employee belongs to.\\\n",
        "•\tSalary: Employee's salary.\\\n",
        "•\tJoinDate: Date the employee joined the company.\\\n",
        "Perform the following tasks:\n",
        "1.\tIdentify the columns with missing data and calculate the percentage of missing data in each column.\n",
        "2.\tFill the missing Age values with the median age of employees in the same department.\n",
        "3.\tFill the missing Salary values with the average salary of the employees with the same age.\n",
        "4.\tDrop any rows where the Name or JoinDate is missing.\n"
      ],
      "metadata": {
        "id": "SFdpAb2XiXkE"
      }
    },
    {
      "cell_type": "code",
      "source": [],
      "metadata": {
        "id": "luoo9ckuimK7"
      },
      "execution_count": null,
      "outputs": []
    },
    {
      "cell_type": "markdown",
      "source": [
        "Assignment 3: Complex Data Merging and Aggregation\\\n",
        "Task:\n",
        "You are given two datasets:\n",
        "1.\torders.csv containing order records with columns: OrderID, CustomerID, OrderDate.\n",
        "2.\tcustomers.csv containing customer records with columns: CustomerID, Name, Country.\n",
        "Perform the following tasks:\n",
        "1.\tMerge the two datasets on CustomerID.\n",
        "2.\tCalculate the total number of orders and the total sales amount for each customer.\n",
        "3.\tFind the top 5 countries with the highest number of orders.\n"
      ],
      "metadata": {
        "id": "nAtuT4zNiEiO"
      }
    },
    {
      "cell_type": "code",
      "source": [],
      "metadata": {
        "id": "hecIS9wJitSw"
      },
      "execution_count": null,
      "outputs": []
    },
    {
      "cell_type": "markdown",
      "source": [
        "Assignment 4: Time Series Analysis\\\n",
        "Task:\n",
        "You are given a dataset stock_prices.csv containing daily stock prices with the following columns:\\\n",
        "•\tDate: The date of the stock price record.\\\n",
        "•\tStock: The name of the stock.\\\n",
        "•\tClosePrice: The closing price of the stock.\\\n",
        "Perform the following tasks:\n",
        "1.\tConvert the Date column to datetime format and set it as the index of the DataFrame.\n",
        "2.\tCalculate the monthly average closing price for each stock.\n",
        "3.\tFind the stock with the highest average closing price for each month.\n"
      ],
      "metadata": {
        "id": "oUm4vGW4iuNd"
      }
    },
    {
      "cell_type": "code",
      "source": [],
      "metadata": {
        "id": "LC7En41wizx7"
      },
      "execution_count": null,
      "outputs": []
    },
    {
      "cell_type": "markdown",
      "source": [
        "Assignment 5: Advanced Pivot Table Analysis\\\n",
        "Task:\\\n",
        "You are given a dataset ecommerce_sales.csv containing sales data from an e-commerce platform with the following columns:\\\n",
        "•\tOrderID: Unique identifier for each order.\\\n",
        "•\tCustomerID: Unique identifier for each customer.\\\n",
        "•\tProductCategory: Category of the product sold.\\\n",
        "•\tQuantity: Number of units sold.\\\n",
        "•\tPrice: Price per unit.\\\n",
        "•\tOrderDate: Date of the order.\\\n",
        "Perform the following tasks:\n",
        "1.\tCreate a pivot table that shows the total sales amount (Quantity * Price) for each ProductCategory and each month.\n",
        "2.\tAdd a column to the pivot table showing the percentage of total sales each category contributes to the overall sales for each month.\n"
      ],
      "metadata": {
        "id": "vO2fCMKXi4vb"
      }
    },
    {
      "cell_type": "code",
      "source": [],
      "metadata": {
        "id": "MbrXhb7XjES9"
      },
      "execution_count": null,
      "outputs": []
    }
  ]
}